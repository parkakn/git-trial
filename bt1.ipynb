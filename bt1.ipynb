{
 "cells": [
  {
   "cell_type": "markdown",
   "metadata": {},
   "source": [
    "## bt1 (Based on: https://algotrading101.com/learn/backtrader-for-backtesting/)"
   ]
  },
  {
   "cell_type": "markdown",
   "metadata": {},
   "source": [
    "## 1. Collect Data from Yahoo Finance"
   ]
  },
  {
   "cell_type": "markdown",
   "metadata": {},
   "source": [
    "https://algotrading101.com/learn/yahoo-finance-api-guide/"
   ]
  },
  {
   "cell_type": "code",
   "execution_count": 2,
   "metadata": {},
   "outputs": [],
   "source": [
    "import yfinance as yf"
   ]
  },
  {
   "cell_type": "code",
   "execution_count": 3,
   "metadata": {},
   "outputs": [
    {
     "name": "stderr",
     "output_type": "stream",
     "text": [
      "[*********************100%%**********************]  2 of 2 completed\n"
     ]
    }
   ],
   "source": [
    "data = yf.download(\"SPY AAPL\", start=\"2017-01-01\", end=\"2017-04-30\",\n",
    "                   group_by=\"ticker\")"
   ]
  },
  {
   "cell_type": "code",
   "execution_count": 4,
   "metadata": {},
   "outputs": [
    {
     "data": {
      "text/html": [
       "<div>\n",
       "<style scoped>\n",
       "    .dataframe tbody tr th:only-of-type {\n",
       "        vertical-align: middle;\n",
       "    }\n",
       "\n",
       "    .dataframe tbody tr th {\n",
       "        vertical-align: top;\n",
       "    }\n",
       "\n",
       "    .dataframe thead tr th {\n",
       "        text-align: left;\n",
       "    }\n",
       "\n",
       "    .dataframe thead tr:last-of-type th {\n",
       "        text-align: right;\n",
       "    }\n",
       "</style>\n",
       "<table border=\"1\" class=\"dataframe\">\n",
       "  <thead>\n",
       "    <tr>\n",
       "      <th></th>\n",
       "      <th colspan=\"6\" halign=\"left\">SPY</th>\n",
       "      <th colspan=\"6\" halign=\"left\">AAPL</th>\n",
       "    </tr>\n",
       "    <tr>\n",
       "      <th></th>\n",
       "      <th>Open</th>\n",
       "      <th>High</th>\n",
       "      <th>Low</th>\n",
       "      <th>Close</th>\n",
       "      <th>Adj Close</th>\n",
       "      <th>Volume</th>\n",
       "      <th>Open</th>\n",
       "      <th>High</th>\n",
       "      <th>Low</th>\n",
       "      <th>Close</th>\n",
       "      <th>Adj Close</th>\n",
       "      <th>Volume</th>\n",
       "    </tr>\n",
       "    <tr>\n",
       "      <th>Date</th>\n",
       "      <th></th>\n",
       "      <th></th>\n",
       "      <th></th>\n",
       "      <th></th>\n",
       "      <th></th>\n",
       "      <th></th>\n",
       "      <th></th>\n",
       "      <th></th>\n",
       "      <th></th>\n",
       "      <th></th>\n",
       "      <th></th>\n",
       "      <th></th>\n",
       "    </tr>\n",
       "  </thead>\n",
       "  <tbody>\n",
       "    <tr>\n",
       "      <th>2017-01-03</th>\n",
       "      <td>225.039993</td>\n",
       "      <td>225.830002</td>\n",
       "      <td>223.880005</td>\n",
       "      <td>225.240005</td>\n",
       "      <td>199.819519</td>\n",
       "      <td>91366500</td>\n",
       "      <td>28.950001</td>\n",
       "      <td>29.082500</td>\n",
       "      <td>28.690001</td>\n",
       "      <td>29.037500</td>\n",
       "      <td>27.023703</td>\n",
       "      <td>115127600</td>\n",
       "    </tr>\n",
       "    <tr>\n",
       "      <th>2017-01-04</th>\n",
       "      <td>225.619995</td>\n",
       "      <td>226.750000</td>\n",
       "      <td>225.610001</td>\n",
       "      <td>226.580002</td>\n",
       "      <td>201.008286</td>\n",
       "      <td>78744400</td>\n",
       "      <td>28.962500</td>\n",
       "      <td>29.127501</td>\n",
       "      <td>28.937500</td>\n",
       "      <td>29.004999</td>\n",
       "      <td>26.993458</td>\n",
       "      <td>84472400</td>\n",
       "    </tr>\n",
       "    <tr>\n",
       "      <th>2017-01-05</th>\n",
       "      <td>226.270004</td>\n",
       "      <td>226.580002</td>\n",
       "      <td>225.479996</td>\n",
       "      <td>226.399994</td>\n",
       "      <td>200.848663</td>\n",
       "      <td>78379000</td>\n",
       "      <td>28.980000</td>\n",
       "      <td>29.215000</td>\n",
       "      <td>28.952499</td>\n",
       "      <td>29.152500</td>\n",
       "      <td>27.130739</td>\n",
       "      <td>88774400</td>\n",
       "    </tr>\n",
       "    <tr>\n",
       "      <th>2017-01-06</th>\n",
       "      <td>226.529999</td>\n",
       "      <td>227.750000</td>\n",
       "      <td>225.899994</td>\n",
       "      <td>227.210007</td>\n",
       "      <td>201.567245</td>\n",
       "      <td>71559900</td>\n",
       "      <td>29.195000</td>\n",
       "      <td>29.540001</td>\n",
       "      <td>29.117500</td>\n",
       "      <td>29.477501</td>\n",
       "      <td>27.433193</td>\n",
       "      <td>127007600</td>\n",
       "    </tr>\n",
       "    <tr>\n",
       "      <th>2017-01-09</th>\n",
       "      <td>226.910004</td>\n",
       "      <td>227.070007</td>\n",
       "      <td>226.419998</td>\n",
       "      <td>226.460007</td>\n",
       "      <td>200.901871</td>\n",
       "      <td>46939700</td>\n",
       "      <td>29.487499</td>\n",
       "      <td>29.857500</td>\n",
       "      <td>29.485001</td>\n",
       "      <td>29.747499</td>\n",
       "      <td>27.684464</td>\n",
       "      <td>134247600</td>\n",
       "    </tr>\n",
       "    <tr>\n",
       "      <th>...</th>\n",
       "      <td>...</td>\n",
       "      <td>...</td>\n",
       "      <td>...</td>\n",
       "      <td>...</td>\n",
       "      <td>...</td>\n",
       "      <td>...</td>\n",
       "      <td>...</td>\n",
       "      <td>...</td>\n",
       "      <td>...</td>\n",
       "      <td>...</td>\n",
       "      <td>...</td>\n",
       "      <td>...</td>\n",
       "    </tr>\n",
       "    <tr>\n",
       "      <th>2017-04-24</th>\n",
       "      <td>237.179993</td>\n",
       "      <td>237.410004</td>\n",
       "      <td>234.559998</td>\n",
       "      <td>237.169998</td>\n",
       "      <td>211.318451</td>\n",
       "      <td>119209900</td>\n",
       "      <td>35.875000</td>\n",
       "      <td>35.987499</td>\n",
       "      <td>35.794998</td>\n",
       "      <td>35.910000</td>\n",
       "      <td>33.564484</td>\n",
       "      <td>68537200</td>\n",
       "    </tr>\n",
       "    <tr>\n",
       "      <th>2017-04-25</th>\n",
       "      <td>237.910004</td>\n",
       "      <td>238.949997</td>\n",
       "      <td>237.809998</td>\n",
       "      <td>238.550003</td>\n",
       "      <td>212.548065</td>\n",
       "      <td>76698300</td>\n",
       "      <td>35.977501</td>\n",
       "      <td>36.224998</td>\n",
       "      <td>35.967499</td>\n",
       "      <td>36.132500</td>\n",
       "      <td>33.772446</td>\n",
       "      <td>75486000</td>\n",
       "    </tr>\n",
       "    <tr>\n",
       "      <th>2017-04-26</th>\n",
       "      <td>238.509995</td>\n",
       "      <td>239.529999</td>\n",
       "      <td>238.350006</td>\n",
       "      <td>238.399994</td>\n",
       "      <td>212.414383</td>\n",
       "      <td>84702500</td>\n",
       "      <td>36.117500</td>\n",
       "      <td>36.150002</td>\n",
       "      <td>35.845001</td>\n",
       "      <td>35.919998</td>\n",
       "      <td>33.573826</td>\n",
       "      <td>80164800</td>\n",
       "    </tr>\n",
       "    <tr>\n",
       "      <th>2017-04-27</th>\n",
       "      <td>238.770004</td>\n",
       "      <td>238.949997</td>\n",
       "      <td>237.979996</td>\n",
       "      <td>238.600006</td>\n",
       "      <td>212.592606</td>\n",
       "      <td>57410300</td>\n",
       "      <td>35.980000</td>\n",
       "      <td>36.040001</td>\n",
       "      <td>35.827499</td>\n",
       "      <td>35.947498</td>\n",
       "      <td>33.599529</td>\n",
       "      <td>56985200</td>\n",
       "    </tr>\n",
       "    <tr>\n",
       "      <th>2017-04-28</th>\n",
       "      <td>238.899994</td>\n",
       "      <td>238.929993</td>\n",
       "      <td>237.929993</td>\n",
       "      <td>238.080002</td>\n",
       "      <td>212.129333</td>\n",
       "      <td>63532800</td>\n",
       "      <td>36.022499</td>\n",
       "      <td>36.075001</td>\n",
       "      <td>35.817501</td>\n",
       "      <td>35.912498</td>\n",
       "      <td>33.566822</td>\n",
       "      <td>83441600</td>\n",
       "    </tr>\n",
       "  </tbody>\n",
       "</table>\n",
       "<p>81 rows × 12 columns</p>\n",
       "</div>"
      ],
      "text/plain": [
       "                   SPY                                                  \\\n",
       "                  Open        High         Low       Close   Adj Close   \n",
       "Date                                                                     \n",
       "2017-01-03  225.039993  225.830002  223.880005  225.240005  199.819519   \n",
       "2017-01-04  225.619995  226.750000  225.610001  226.580002  201.008286   \n",
       "2017-01-05  226.270004  226.580002  225.479996  226.399994  200.848663   \n",
       "2017-01-06  226.529999  227.750000  225.899994  227.210007  201.567245   \n",
       "2017-01-09  226.910004  227.070007  226.419998  226.460007  200.901871   \n",
       "...                ...         ...         ...         ...         ...   \n",
       "2017-04-24  237.179993  237.410004  234.559998  237.169998  211.318451   \n",
       "2017-04-25  237.910004  238.949997  237.809998  238.550003  212.548065   \n",
       "2017-04-26  238.509995  239.529999  238.350006  238.399994  212.414383   \n",
       "2017-04-27  238.770004  238.949997  237.979996  238.600006  212.592606   \n",
       "2017-04-28  238.899994  238.929993  237.929993  238.080002  212.129333   \n",
       "\n",
       "                            AAPL                                              \\\n",
       "               Volume       Open       High        Low      Close  Adj Close   \n",
       "Date                                                                           \n",
       "2017-01-03   91366500  28.950001  29.082500  28.690001  29.037500  27.023703   \n",
       "2017-01-04   78744400  28.962500  29.127501  28.937500  29.004999  26.993458   \n",
       "2017-01-05   78379000  28.980000  29.215000  28.952499  29.152500  27.130739   \n",
       "2017-01-06   71559900  29.195000  29.540001  29.117500  29.477501  27.433193   \n",
       "2017-01-09   46939700  29.487499  29.857500  29.485001  29.747499  27.684464   \n",
       "...               ...        ...        ...        ...        ...        ...   \n",
       "2017-04-24  119209900  35.875000  35.987499  35.794998  35.910000  33.564484   \n",
       "2017-04-25   76698300  35.977501  36.224998  35.967499  36.132500  33.772446   \n",
       "2017-04-26   84702500  36.117500  36.150002  35.845001  35.919998  33.573826   \n",
       "2017-04-27   57410300  35.980000  36.040001  35.827499  35.947498  33.599529   \n",
       "2017-04-28   63532800  36.022499  36.075001  35.817501  35.912498  33.566822   \n",
       "\n",
       "                       \n",
       "               Volume  \n",
       "Date                   \n",
       "2017-01-03  115127600  \n",
       "2017-01-04   84472400  \n",
       "2017-01-05   88774400  \n",
       "2017-01-06  127007600  \n",
       "2017-01-09  134247600  \n",
       "...               ...  \n",
       "2017-04-24   68537200  \n",
       "2017-04-25   75486000  \n",
       "2017-04-26   80164800  \n",
       "2017-04-27   56985200  \n",
       "2017-04-28   83441600  \n",
       "\n",
       "[81 rows x 12 columns]"
      ]
     },
     "execution_count": 4,
     "metadata": {},
     "output_type": "execute_result"
    }
   ],
   "source": [
    "data"
   ]
  },
  {
   "cell_type": "code",
   "execution_count": 7,
   "metadata": {},
   "outputs": [],
   "source": [
    "import backtrader as bt"
   ]
  },
  {
   "cell_type": "code",
   "execution_count": 9,
   "metadata": {},
   "outputs": [],
   "source": [
    "import datetime"
   ]
  },
  {
   "cell_type": "code",
   "execution_count": 12,
   "metadata": {},
   "outputs": [],
   "source": [
    "cerebro = bt.Cerebro()"
   ]
  },
  {
   "cell_type": "code",
   "execution_count": 23,
   "metadata": {},
   "outputs": [],
   "source": [
    "instruments = ['TSLA', 'AAPL', 'GE', 'GRPN']\n",
    "for ticker in instruments:\n",
    "    data = bt.feeds.YahooFinanceCSVData(\n",
    "        dataname='{}.csv'.format(ticker),\n",
    "        fromdate=datetime.datetime(2016, 1, 1),\n",
    "        todate=datetime.datetime(2017, 10, 30))\n",
    "    cerebro.adddata(data) "
   ]
  },
  {
   "cell_type": "code",
   "execution_count": 1,
   "metadata": {},
   "outputs": [
    {
     "ename": "NameError",
     "evalue": "name 'instruments' is not defined",
     "output_type": "error",
     "traceback": [
      "\u001b[1;31m---------------------------------------------------------------------------\u001b[0m",
      "\u001b[1;31mNameError\u001b[0m                                 Traceback (most recent call last)",
      "\u001b[1;32mc:\\Users\\ewp\\Desktop\\mySite\\cra_backtest\\bt1.ipynb Cell 11\u001b[0m line \u001b[0;36m1\n\u001b[1;32m----> <a href='vscode-notebook-cell:/c%3A/Users/ewp/Desktop/mySite/cra_backtest/bt1.ipynb#X21sZmlsZQ%3D%3D?line=0'>1</a>\u001b[0m instruments\n",
      "\u001b[1;31mNameError\u001b[0m: name 'instruments' is not defined"
     ]
    }
   ],
   "source": [
    "instruments"
   ]
  },
  {
   "cell_type": "code",
   "execution_count": 24,
   "metadata": {},
   "outputs": [
    {
     "ename": "FileNotFoundError",
     "evalue": "[Errno 2] No such file or directory: 'TSLA.csv'",
     "output_type": "error",
     "traceback": [
      "\u001b[1;31m---------------------------------------------------------------------------\u001b[0m",
      "\u001b[1;31mFileNotFoundError\u001b[0m                         Traceback (most recent call last)",
      "\u001b[1;32mc:\\Users\\ewp\\Desktop\\mySite\\cra_backtest\\bt1.ipynb Cell 11\u001b[0m line \u001b[0;36m1\n\u001b[1;32m----> <a href='vscode-notebook-cell:/c%3A/Users/ewp/Desktop/mySite/cra_backtest/bt1.ipynb#X22sZmlsZQ%3D%3D?line=0'>1</a>\u001b[0m cerebro\u001b[39m.\u001b[39;49mrun()\n",
      "File \u001b[1;32mc:\\Users\\ewp\\AppData\\Local\\Programs\\Python\\Python311\\Lib\\site-packages\\backtrader\\cerebro.py:1132\u001b[0m, in \u001b[0;36mCerebro.run\u001b[1;34m(self, **kwargs)\u001b[0m\n\u001b[0;32m   1128\u001b[0m \u001b[39mif\u001b[39;00m \u001b[39mnot\u001b[39;00m \u001b[39mself\u001b[39m\u001b[39m.\u001b[39m_dooptimize \u001b[39mor\u001b[39;00m \u001b[39mself\u001b[39m\u001b[39m.\u001b[39mp\u001b[39m.\u001b[39mmaxcpus \u001b[39m==\u001b[39m \u001b[39m1\u001b[39m:\n\u001b[0;32m   1129\u001b[0m     \u001b[39m# If no optimmization is wished ... or 1 core is to be used\u001b[39;00m\n\u001b[0;32m   1130\u001b[0m     \u001b[39m# let's skip process \"spawning\"\u001b[39;00m\n\u001b[0;32m   1131\u001b[0m     \u001b[39mfor\u001b[39;00m iterstrat \u001b[39min\u001b[39;00m iterstrats:\n\u001b[1;32m-> 1132\u001b[0m         runstrat \u001b[39m=\u001b[39m \u001b[39mself\u001b[39;49m\u001b[39m.\u001b[39;49mrunstrategies(iterstrat)\n\u001b[0;32m   1133\u001b[0m         \u001b[39mself\u001b[39m\u001b[39m.\u001b[39mrunstrats\u001b[39m.\u001b[39mappend(runstrat)\n\u001b[0;32m   1134\u001b[0m         \u001b[39mif\u001b[39;00m \u001b[39mself\u001b[39m\u001b[39m.\u001b[39m_dooptimize:\n",
      "File \u001b[1;32mc:\\Users\\ewp\\AppData\\Local\\Programs\\Python\\Python311\\Lib\\site-packages\\backtrader\\cerebro.py:1215\u001b[0m, in \u001b[0;36mCerebro.runstrategies\u001b[1;34m(self, iterstrat, predata)\u001b[0m\n\u001b[0;32m   1213\u001b[0m \u001b[39mif\u001b[39;00m \u001b[39mself\u001b[39m\u001b[39m.\u001b[39m_exactbars \u001b[39m<\u001b[39m \u001b[39m1\u001b[39m:  \u001b[39m# datas can be full length\u001b[39;00m\n\u001b[0;32m   1214\u001b[0m     data\u001b[39m.\u001b[39mextend(size\u001b[39m=\u001b[39m\u001b[39mself\u001b[39m\u001b[39m.\u001b[39mparams\u001b[39m.\u001b[39mlookahead)\n\u001b[1;32m-> 1215\u001b[0m data\u001b[39m.\u001b[39;49m_start()\n\u001b[0;32m   1216\u001b[0m \u001b[39mif\u001b[39;00m \u001b[39mself\u001b[39m\u001b[39m.\u001b[39m_dopreload:\n\u001b[0;32m   1217\u001b[0m     data\u001b[39m.\u001b[39mpreload()\n",
      "File \u001b[1;32mc:\\Users\\ewp\\AppData\\Local\\Programs\\Python\\Python311\\Lib\\site-packages\\backtrader\\feed.py:203\u001b[0m, in \u001b[0;36mAbstractDataBase._start\u001b[1;34m(self)\u001b[0m\n\u001b[0;32m    202\u001b[0m \u001b[39mdef\u001b[39;00m \u001b[39m_start\u001b[39m(\u001b[39mself\u001b[39m):\n\u001b[1;32m--> 203\u001b[0m     \u001b[39mself\u001b[39;49m\u001b[39m.\u001b[39;49mstart()\n\u001b[0;32m    205\u001b[0m     \u001b[39mif\u001b[39;00m \u001b[39mnot\u001b[39;00m \u001b[39mself\u001b[39m\u001b[39m.\u001b[39m_started:\n\u001b[0;32m    206\u001b[0m         \u001b[39mself\u001b[39m\u001b[39m.\u001b[39m_start_finish()\n",
      "File \u001b[1;32mc:\\Users\\ewp\\AppData\\Local\\Programs\\Python\\Python311\\Lib\\site-packages\\backtrader\\feeds\\yahoo.py:94\u001b[0m, in \u001b[0;36mYahooFinanceCSVData.start\u001b[1;34m(self)\u001b[0m\n\u001b[0;32m     93\u001b[0m \u001b[39mdef\u001b[39;00m \u001b[39mstart\u001b[39m(\u001b[39mself\u001b[39m):\n\u001b[1;32m---> 94\u001b[0m     \u001b[39msuper\u001b[39;49m(YahooFinanceCSVData, \u001b[39mself\u001b[39;49m)\u001b[39m.\u001b[39;49mstart()\n\u001b[0;32m     96\u001b[0m     \u001b[39mif\u001b[39;00m \u001b[39mnot\u001b[39;00m \u001b[39mself\u001b[39m\u001b[39m.\u001b[39mparams\u001b[39m.\u001b[39mreverse:\n\u001b[0;32m     97\u001b[0m         \u001b[39mreturn\u001b[39;00m\n",
      "File \u001b[1;32mc:\\Users\\ewp\\AppData\\Local\\Programs\\Python\\Python311\\Lib\\site-packages\\backtrader\\feed.py:675\u001b[0m, in \u001b[0;36mCSVDataBase.start\u001b[1;34m(self)\u001b[0m\n\u001b[0;32m    672\u001b[0m         \u001b[39mself\u001b[39m\u001b[39m.\u001b[39mf \u001b[39m=\u001b[39m \u001b[39mself\u001b[39m\u001b[39m.\u001b[39mp\u001b[39m.\u001b[39mdataname\n\u001b[0;32m    673\u001b[0m     \u001b[39melse\u001b[39;00m:\n\u001b[0;32m    674\u001b[0m         \u001b[39m# Let an exception propagate to let the caller know\u001b[39;00m\n\u001b[1;32m--> 675\u001b[0m         \u001b[39mself\u001b[39m\u001b[39m.\u001b[39mf \u001b[39m=\u001b[39m io\u001b[39m.\u001b[39;49mopen(\u001b[39mself\u001b[39;49m\u001b[39m.\u001b[39;49mp\u001b[39m.\u001b[39;49mdataname, \u001b[39m'\u001b[39;49m\u001b[39mr\u001b[39;49m\u001b[39m'\u001b[39;49m)\n\u001b[0;32m    677\u001b[0m \u001b[39mif\u001b[39;00m \u001b[39mself\u001b[39m\u001b[39m.\u001b[39mp\u001b[39m.\u001b[39mheaders:\n\u001b[0;32m    678\u001b[0m     \u001b[39mself\u001b[39m\u001b[39m.\u001b[39mf\u001b[39m.\u001b[39mreadline()  \u001b[39m# skip the headers\u001b[39;00m\n",
      "\u001b[1;31mFileNotFoundError\u001b[0m: [Errno 2] No such file or directory: 'TSLA.csv'"
     ]
    }
   ],
   "source": [
    "cerebro.run()"
   ]
  },
  {
   "cell_type": "code",
   "execution_count": 19,
   "metadata": {},
   "outputs": [
    {
     "data": {
      "text/plain": [
       "<backtrader.feeds.yahoo.YahooFinanceCSVData at 0x297de5139d0>"
      ]
     },
     "execution_count": 19,
     "metadata": {},
     "output_type": "execute_result"
    }
   ],
   "source": [
    "bt.feeds.YahooFinanceCSVData(\n",
    "        dataname='{}.csv'.format('tsla'),\n",
    "        fromdate=datetime.datetime(2016, 1, 1),\n",
    "        todate=datetime.datetime(2017, 10, 30))"
   ]
  },
  {
   "cell_type": "code",
   "execution_count": 11,
   "metadata": {},
   "outputs": [
    {
     "data": {
      "text/plain": [
       "<backtrader.feeds.yahoo.YahooFinanceCSVData at 0x297de28db90>"
      ]
     },
     "execution_count": 11,
     "metadata": {},
     "output_type": "execute_result"
    }
   ],
   "source": [
    "data"
   ]
  },
  {
   "cell_type": "markdown",
   "metadata": {},
   "source": [
    "TD Ameritrade id: eugene9975@gmail.com, pw: Jungyoon906!906"
   ]
  },
  {
   "cell_type": "code",
   "execution_count": null,
   "metadata": {},
   "outputs": [],
   "source": []
  }
 ],
 "metadata": {
  "kernelspec": {
   "display_name": "Python 3",
   "language": "python",
   "name": "python3"
  },
  "language_info": {
   "codemirror_mode": {
    "name": "ipython",
    "version": 3
   },
   "file_extension": ".py",
   "mimetype": "text/x-python",
   "name": "python",
   "nbconvert_exporter": "python",
   "pygments_lexer": "ipython3",
   "version": "3.11.4"
  }
 },
 "nbformat": 4,
 "nbformat_minor": 2
}
