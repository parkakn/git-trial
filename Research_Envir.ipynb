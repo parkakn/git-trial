{
 "cells": [
  {
   "cell_type": "code",
   "execution_count": 3,
   "metadata": {},
   "outputs": [],
   "source": [
    "import matplotlib\n",
    "import backtrader as bt\n",
    "from datetime import datetime\n",
    "import yfinance as yf\n",
    "import pandas_datareader as pdr\n",
    "import pandas as pd"
   ]
  },
  {
   "cell_type": "markdown",
   "metadata": {},
   "source": [
    "### Reference: \n",
    "* 파이썬 증권 데이터 분석 김황후\n",
    "* https://pypi.org/project/yfinance/"
   ]
  },
  {
   "cell_type": "code",
   "execution_count": 81,
   "metadata": {},
   "outputs": [],
   "source": [
    "class MyStrategy(bt.Strategy):\n",
    "    def __init__(self):\n",
    "        super().__init__()\n",
    "        self.rsi = bt.indicators.RSI(self.data.close)\n",
    "        \n",
    "        self.dataclose = self.datas[0].close\n",
    "\n",
    "    def log(self, txt, dt=None):\n",
    "        dt = dt or self.datas[0].datetime.date(0)\n",
    "        print(f'{dt.isoformat()} {txt}') #Print date and close\n",
    "\n",
    "    def next(self):\n",
    "        self.log('Close: ', self.dataclose[0])\n",
    "        if not self.position:\n",
    "            if self.rsi[0]<30:\n",
    "                self.order = self.buy()\n",
    "        else:\n",
    "            if self.rsi[0]>70:\n",
    "                self.order = self.sell()"
   ]
  },
  {
   "cell_type": "code",
   "execution_count": 82,
   "metadata": {},
   "outputs": [],
   "source": [
    "cerebro = bt.Cerebro()"
   ]
  },
  {
   "cell_type": "code",
   "execution_count": 83,
   "metadata": {},
   "outputs": [
    {
     "data": {
      "text/plain": [
       "0"
      ]
     },
     "execution_count": 83,
     "metadata": {},
     "output_type": "execute_result"
    }
   ],
   "source": [
    "cerebro.addstrategy(MyStrategy)"
   ]
  },
  {
   "cell_type": "code",
   "execution_count": 65,
   "metadata": {},
   "outputs": [
    {
     "name": "stderr",
     "output_type": "stream",
     "text": [
      "[*********************100%%**********************]  1 of 1 completed\n"
     ]
    }
   ],
   "source": [
    "dataname = yf.download(\"036570.KS\", \n",
    "            start=\"2018-01-01\", end=\"2018-12-31\", \n",
    "            group_by='ticker')"
   ]
  },
  {
   "cell_type": "code",
   "execution_count": 58,
   "metadata": {},
   "outputs": [
    {
     "data": {
      "text/html": [
       "<div>\n",
       "<style scoped>\n",
       "    .dataframe tbody tr th:only-of-type {\n",
       "        vertical-align: middle;\n",
       "    }\n",
       "\n",
       "    .dataframe tbody tr th {\n",
       "        vertical-align: top;\n",
       "    }\n",
       "\n",
       "    .dataframe thead tr th {\n",
       "        text-align: left;\n",
       "    }\n",
       "\n",
       "    .dataframe thead tr:last-of-type th {\n",
       "        text-align: right;\n",
       "    }\n",
       "</style>\n",
       "<table border=\"1\" class=\"dataframe\">\n",
       "  <thead>\n",
       "    <tr>\n",
       "      <th></th>\n",
       "      <th colspan=\"6\" halign=\"left\">AAPL</th>\n",
       "      <th colspan=\"6\" halign=\"left\">036570.KS</th>\n",
       "    </tr>\n",
       "    <tr>\n",
       "      <th></th>\n",
       "      <th>Open</th>\n",
       "      <th>High</th>\n",
       "      <th>Low</th>\n",
       "      <th>Close</th>\n",
       "      <th>Adj Close</th>\n",
       "      <th>Volume</th>\n",
       "      <th>Open</th>\n",
       "      <th>High</th>\n",
       "      <th>Low</th>\n",
       "      <th>Close</th>\n",
       "      <th>Adj Close</th>\n",
       "      <th>Volume</th>\n",
       "    </tr>\n",
       "    <tr>\n",
       "      <th>Date</th>\n",
       "      <th></th>\n",
       "      <th></th>\n",
       "      <th></th>\n",
       "      <th></th>\n",
       "      <th></th>\n",
       "      <th></th>\n",
       "      <th></th>\n",
       "      <th></th>\n",
       "      <th></th>\n",
       "      <th></th>\n",
       "      <th></th>\n",
       "      <th></th>\n",
       "    </tr>\n",
       "  </thead>\n",
       "  <tbody>\n",
       "    <tr>\n",
       "      <th>2018-01-02</th>\n",
       "      <td>42.540001</td>\n",
       "      <td>43.075001</td>\n",
       "      <td>42.314999</td>\n",
       "      <td>43.064999</td>\n",
       "      <td>40.722878</td>\n",
       "      <td>102223600.0</td>\n",
       "      <td>448000.0</td>\n",
       "      <td>452500.0</td>\n",
       "      <td>442000.0</td>\n",
       "      <td>446500.0</td>\n",
       "      <td>421866.12500</td>\n",
       "      <td>121955.0</td>\n",
       "    </tr>\n",
       "    <tr>\n",
       "      <th>2018-01-03</th>\n",
       "      <td>43.132500</td>\n",
       "      <td>43.637501</td>\n",
       "      <td>42.990002</td>\n",
       "      <td>43.057499</td>\n",
       "      <td>40.715794</td>\n",
       "      <td>118071600.0</td>\n",
       "      <td>441500.0</td>\n",
       "      <td>446500.0</td>\n",
       "      <td>432000.0</td>\n",
       "      <td>435000.0</td>\n",
       "      <td>411000.59375</td>\n",
       "      <td>234234.0</td>\n",
       "    </tr>\n",
       "    <tr>\n",
       "      <th>2018-01-04</th>\n",
       "      <td>43.134998</td>\n",
       "      <td>43.367500</td>\n",
       "      <td>43.020000</td>\n",
       "      <td>43.257500</td>\n",
       "      <td>40.904903</td>\n",
       "      <td>89738400.0</td>\n",
       "      <td>438500.0</td>\n",
       "      <td>438500.0</td>\n",
       "      <td>422000.0</td>\n",
       "      <td>422500.0</td>\n",
       "      <td>399190.21875</td>\n",
       "      <td>284220.0</td>\n",
       "    </tr>\n",
       "    <tr>\n",
       "      <th>2018-01-05</th>\n",
       "      <td>43.360001</td>\n",
       "      <td>43.842499</td>\n",
       "      <td>43.262501</td>\n",
       "      <td>43.750000</td>\n",
       "      <td>41.370625</td>\n",
       "      <td>94640000.0</td>\n",
       "      <td>426500.0</td>\n",
       "      <td>430000.0</td>\n",
       "      <td>417000.0</td>\n",
       "      <td>422000.0</td>\n",
       "      <td>398717.81250</td>\n",
       "      <td>204527.0</td>\n",
       "    </tr>\n",
       "    <tr>\n",
       "      <th>2018-01-08</th>\n",
       "      <td>43.587502</td>\n",
       "      <td>43.902500</td>\n",
       "      <td>43.482498</td>\n",
       "      <td>43.587502</td>\n",
       "      <td>41.216957</td>\n",
       "      <td>82271200.0</td>\n",
       "      <td>422000.0</td>\n",
       "      <td>425000.0</td>\n",
       "      <td>415000.0</td>\n",
       "      <td>420000.0</td>\n",
       "      <td>396828.15625</td>\n",
       "      <td>143648.0</td>\n",
       "    </tr>\n",
       "    <tr>\n",
       "      <th>...</th>\n",
       "      <td>...</td>\n",
       "      <td>...</td>\n",
       "      <td>...</td>\n",
       "      <td>...</td>\n",
       "      <td>...</td>\n",
       "      <td>...</td>\n",
       "      <td>...</td>\n",
       "      <td>...</td>\n",
       "      <td>...</td>\n",
       "      <td>...</td>\n",
       "      <td>...</td>\n",
       "      <td>...</td>\n",
       "    </tr>\n",
       "    <tr>\n",
       "      <th>2018-12-21</th>\n",
       "      <td>39.215000</td>\n",
       "      <td>39.540001</td>\n",
       "      <td>37.407501</td>\n",
       "      <td>37.682499</td>\n",
       "      <td>36.168076</td>\n",
       "      <td>382978400.0</td>\n",
       "      <td>468500.0</td>\n",
       "      <td>483500.0</td>\n",
       "      <td>460000.0</td>\n",
       "      <td>480000.0</td>\n",
       "      <td>453517.87500</td>\n",
       "      <td>227454.0</td>\n",
       "    </tr>\n",
       "    <tr>\n",
       "      <th>2018-12-24</th>\n",
       "      <td>37.037498</td>\n",
       "      <td>37.887501</td>\n",
       "      <td>36.647499</td>\n",
       "      <td>36.707500</td>\n",
       "      <td>35.232258</td>\n",
       "      <td>148676800.0</td>\n",
       "      <td>480500.0</td>\n",
       "      <td>487000.0</td>\n",
       "      <td>474000.0</td>\n",
       "      <td>476500.0</td>\n",
       "      <td>450210.96875</td>\n",
       "      <td>76016.0</td>\n",
       "    </tr>\n",
       "    <tr>\n",
       "      <th>2018-12-26</th>\n",
       "      <td>37.075001</td>\n",
       "      <td>39.307499</td>\n",
       "      <td>36.680000</td>\n",
       "      <td>39.292500</td>\n",
       "      <td>37.713364</td>\n",
       "      <td>234330000.0</td>\n",
       "      <td>472500.0</td>\n",
       "      <td>482500.0</td>\n",
       "      <td>468500.0</td>\n",
       "      <td>473500.0</td>\n",
       "      <td>447376.53125</td>\n",
       "      <td>102465.0</td>\n",
       "    </tr>\n",
       "    <tr>\n",
       "      <th>2018-12-27</th>\n",
       "      <td>38.959999</td>\n",
       "      <td>39.192501</td>\n",
       "      <td>37.517502</td>\n",
       "      <td>39.037498</td>\n",
       "      <td>37.468609</td>\n",
       "      <td>212468400.0</td>\n",
       "      <td>485000.0</td>\n",
       "      <td>487000.0</td>\n",
       "      <td>471500.0</td>\n",
       "      <td>484000.0</td>\n",
       "      <td>463215.78125</td>\n",
       "      <td>87402.0</td>\n",
       "    </tr>\n",
       "    <tr>\n",
       "      <th>2018-12-28</th>\n",
       "      <td>39.375000</td>\n",
       "      <td>39.630001</td>\n",
       "      <td>38.637501</td>\n",
       "      <td>39.057499</td>\n",
       "      <td>37.487812</td>\n",
       "      <td>169165600.0</td>\n",
       "      <td>475000.0</td>\n",
       "      <td>476000.0</td>\n",
       "      <td>464000.0</td>\n",
       "      <td>466500.0</td>\n",
       "      <td>446467.31250</td>\n",
       "      <td>122528.0</td>\n",
       "    </tr>\n",
       "  </tbody>\n",
       "</table>\n",
       "<p>258 rows × 12 columns</p>\n",
       "</div>"
      ],
      "text/plain": [
       "                 AAPL                                              \\\n",
       "                 Open       High        Low      Close  Adj Close   \n",
       "Date                                                                \n",
       "2018-01-02  42.540001  43.075001  42.314999  43.064999  40.722878   \n",
       "2018-01-03  43.132500  43.637501  42.990002  43.057499  40.715794   \n",
       "2018-01-04  43.134998  43.367500  43.020000  43.257500  40.904903   \n",
       "2018-01-05  43.360001  43.842499  43.262501  43.750000  41.370625   \n",
       "2018-01-08  43.587502  43.902500  43.482498  43.587502  41.216957   \n",
       "...               ...        ...        ...        ...        ...   \n",
       "2018-12-21  39.215000  39.540001  37.407501  37.682499  36.168076   \n",
       "2018-12-24  37.037498  37.887501  36.647499  36.707500  35.232258   \n",
       "2018-12-26  37.075001  39.307499  36.680000  39.292500  37.713364   \n",
       "2018-12-27  38.959999  39.192501  37.517502  39.037498  37.468609   \n",
       "2018-12-28  39.375000  39.630001  38.637501  39.057499  37.487812   \n",
       "\n",
       "                        036570.KS                                              \\\n",
       "                 Volume      Open      High       Low     Close     Adj Close   \n",
       "Date                                                                            \n",
       "2018-01-02  102223600.0  448000.0  452500.0  442000.0  446500.0  421866.12500   \n",
       "2018-01-03  118071600.0  441500.0  446500.0  432000.0  435000.0  411000.59375   \n",
       "2018-01-04   89738400.0  438500.0  438500.0  422000.0  422500.0  399190.21875   \n",
       "2018-01-05   94640000.0  426500.0  430000.0  417000.0  422000.0  398717.81250   \n",
       "2018-01-08   82271200.0  422000.0  425000.0  415000.0  420000.0  396828.15625   \n",
       "...                 ...       ...       ...       ...       ...           ...   \n",
       "2018-12-21  382978400.0  468500.0  483500.0  460000.0  480000.0  453517.87500   \n",
       "2018-12-24  148676800.0  480500.0  487000.0  474000.0  476500.0  450210.96875   \n",
       "2018-12-26  234330000.0  472500.0  482500.0  468500.0  473500.0  447376.53125   \n",
       "2018-12-27  212468400.0  485000.0  487000.0  471500.0  484000.0  463215.78125   \n",
       "2018-12-28  169165600.0  475000.0  476000.0  464000.0  466500.0  446467.31250   \n",
       "\n",
       "                      \n",
       "              Volume  \n",
       "Date                  \n",
       "2018-01-02  121955.0  \n",
       "2018-01-03  234234.0  \n",
       "2018-01-04  284220.0  \n",
       "2018-01-05  204527.0  \n",
       "2018-01-08  143648.0  \n",
       "...              ...  \n",
       "2018-12-21  227454.0  \n",
       "2018-12-24   76016.0  \n",
       "2018-12-26  102465.0  \n",
       "2018-12-27   87402.0  \n",
       "2018-12-28  122528.0  \n",
       "\n",
       "[258 rows x 12 columns]"
      ]
     },
     "execution_count": 58,
     "metadata": {},
     "output_type": "execute_result"
    }
   ],
   "source": [
    "dataname"
   ]
  },
  {
   "cell_type": "code",
   "execution_count": 84,
   "metadata": {},
   "outputs": [
    {
     "name": "stderr",
     "output_type": "stream",
     "text": [
      "[*********************100%%**********************]  1 of 1 completed\n"
     ]
    }
   ],
   "source": [
    "data = bt.feeds.PandasData(dataname = yf.download(\"AAPL\", \n",
    "            start=\"2018-01-01\", end=\"2018-12-31\", \n",
    "            group_by='ticker'))"
   ]
  },
  {
   "cell_type": "code",
   "execution_count": 85,
   "metadata": {},
   "outputs": [
    {
     "data": {
      "text/plain": [
       "<backtrader.feeds.pandafeed.PandasData at 0x1d2724f5a50>"
      ]
     },
     "execution_count": 85,
     "metadata": {},
     "output_type": "execute_result"
    }
   ],
   "source": [
    "cerebro.adddata(data)"
   ]
  },
  {
   "cell_type": "code",
   "execution_count": 86,
   "metadata": {},
   "outputs": [
    {
     "name": "stderr",
     "output_type": "stream",
     "text": [
      "[*********************100%%**********************]  1 of 1 completed\n"
     ]
    }
   ],
   "source": [
    "data = bt.feeds.PandasData(dataname = yf.download(\"036570.KS\", \n",
    "            start=\"2018-01-01\", end=\"2018-12-31\", \n",
    "            group_by='ticker'))"
   ]
  },
  {
   "cell_type": "code",
   "execution_count": 87,
   "metadata": {},
   "outputs": [
    {
     "data": {
      "text/plain": [
       "<backtrader.feeds.pandafeed.PandasData at 0x1d27264c5d0>"
      ]
     },
     "execution_count": 87,
     "metadata": {},
     "output_type": "execute_result"
    }
   ],
   "source": [
    "cerebro.adddata(data)"
   ]
  },
  {
   "cell_type": "code",
   "execution_count": 88,
   "metadata": {},
   "outputs": [],
   "source": [
    "cerebro.broker.setcash(10000)"
   ]
  },
  {
   "cell_type": "code",
   "execution_count": 89,
   "metadata": {},
   "outputs": [],
   "source": [
    "# CHECK: sizers? \n",
    "cerebro.addsizer(bt.sizers.SizerFix,stake = 30)"
   ]
  },
  {
   "cell_type": "code",
   "execution_count": 90,
   "metadata": {},
   "outputs": [
    {
     "name": "stdout",
     "output_type": "stream",
     "text": [
      "Initial Portfolio Value: 10,000 KRW\n"
     ]
    }
   ],
   "source": [
    "print(f'Initial Portfolio Value: {cerebro.broker.getvalue():,.0f} KRW')"
   ]
  },
  {
   "cell_type": "code",
   "execution_count": 91,
   "metadata": {},
   "outputs": [
    {
     "ename": "AttributeError",
     "evalue": "'float' object has no attribute 'isoformat'",
     "output_type": "error",
     "traceback": [
      "\u001b[1;31m---------------------------------------------------------------------------\u001b[0m",
      "\u001b[1;31mAttributeError\u001b[0m                            Traceback (most recent call last)",
      "\u001b[1;32mc:\\Users\\ewp\\Desktop\\mySite\\cra_backtest\\Research_Envir.ipynb Cell 15\u001b[0m line \u001b[0;36m1\n\u001b[1;32m----> <a href='vscode-notebook-cell:/c%3A/Users/ewp/Desktop/mySite/cra_backtest/Research_Envir.ipynb#X32sZmlsZQ%3D%3D?line=0'>1</a>\u001b[0m cerebro\u001b[39m.\u001b[39;49mrun()\n",
      "File \u001b[1;32mc:\\Users\\ewp\\AppData\\Local\\Programs\\Python\\Python311\\Lib\\site-packages\\backtrader\\cerebro.py:1132\u001b[0m, in \u001b[0;36mCerebro.run\u001b[1;34m(self, **kwargs)\u001b[0m\n\u001b[0;32m   1128\u001b[0m \u001b[39mif\u001b[39;00m \u001b[39mnot\u001b[39;00m \u001b[39mself\u001b[39m\u001b[39m.\u001b[39m_dooptimize \u001b[39mor\u001b[39;00m \u001b[39mself\u001b[39m\u001b[39m.\u001b[39mp\u001b[39m.\u001b[39mmaxcpus \u001b[39m==\u001b[39m \u001b[39m1\u001b[39m:\n\u001b[0;32m   1129\u001b[0m     \u001b[39m# If no optimmization is wished ... or 1 core is to be used\u001b[39;00m\n\u001b[0;32m   1130\u001b[0m     \u001b[39m# let's skip process \"spawning\"\u001b[39;00m\n\u001b[0;32m   1131\u001b[0m     \u001b[39mfor\u001b[39;00m iterstrat \u001b[39min\u001b[39;00m iterstrats:\n\u001b[1;32m-> 1132\u001b[0m         runstrat \u001b[39m=\u001b[39m \u001b[39mself\u001b[39;49m\u001b[39m.\u001b[39;49mrunstrategies(iterstrat)\n\u001b[0;32m   1133\u001b[0m         \u001b[39mself\u001b[39m\u001b[39m.\u001b[39mrunstrats\u001b[39m.\u001b[39mappend(runstrat)\n\u001b[0;32m   1134\u001b[0m         \u001b[39mif\u001b[39;00m \u001b[39mself\u001b[39m\u001b[39m.\u001b[39m_dooptimize:\n",
      "File \u001b[1;32mc:\\Users\\ewp\\AppData\\Local\\Programs\\Python\\Python311\\Lib\\site-packages\\backtrader\\cerebro.py:1298\u001b[0m, in \u001b[0;36mCerebro.runstrategies\u001b[1;34m(self, iterstrat, predata)\u001b[0m\n\u001b[0;32m   1296\u001b[0m         \u001b[39mself\u001b[39m\u001b[39m.\u001b[39m_runonce_old(runstrats)\n\u001b[0;32m   1297\u001b[0m     \u001b[39melse\u001b[39;00m:\n\u001b[1;32m-> 1298\u001b[0m         \u001b[39mself\u001b[39;49m\u001b[39m.\u001b[39;49m_runonce(runstrats)\n\u001b[0;32m   1299\u001b[0m \u001b[39melse\u001b[39;00m:\n\u001b[0;32m   1300\u001b[0m     \u001b[39mif\u001b[39;00m \u001b[39mself\u001b[39m\u001b[39m.\u001b[39mp\u001b[39m.\u001b[39moldsync:\n",
      "File \u001b[1;32mc:\\Users\\ewp\\AppData\\Local\\Programs\\Python\\Python311\\Lib\\site-packages\\backtrader\\cerebro.py:1700\u001b[0m, in \u001b[0;36mCerebro._runonce\u001b[1;34m(self, runstrats)\u001b[0m\n\u001b[0;32m   1697\u001b[0m \u001b[39mself\u001b[39m\u001b[39m.\u001b[39m_check_timers(runstrats, dt0, cheat\u001b[39m=\u001b[39m\u001b[39mFalse\u001b[39;00m)\n\u001b[0;32m   1699\u001b[0m \u001b[39mfor\u001b[39;00m strat \u001b[39min\u001b[39;00m runstrats:\n\u001b[1;32m-> 1700\u001b[0m     strat\u001b[39m.\u001b[39;49m_oncepost(dt0)\n\u001b[0;32m   1701\u001b[0m     \u001b[39mif\u001b[39;00m \u001b[39mself\u001b[39m\u001b[39m.\u001b[39m_event_stop:  \u001b[39m# stop if requested\u001b[39;00m\n\u001b[0;32m   1702\u001b[0m         \u001b[39mreturn\u001b[39;00m\n",
      "File \u001b[1;32mc:\\Users\\ewp\\AppData\\Local\\Programs\\Python\\Python311\\Lib\\site-packages\\backtrader\\strategy.py:311\u001b[0m, in \u001b[0;36mStrategy._oncepost\u001b[1;34m(self, dt)\u001b[0m\n\u001b[0;32m    309\u001b[0m     \u001b[39mself\u001b[39m\u001b[39m.\u001b[39mnext()\n\u001b[0;32m    310\u001b[0m \u001b[39melif\u001b[39;00m minperstatus \u001b[39m==\u001b[39m \u001b[39m0\u001b[39m:\n\u001b[1;32m--> 311\u001b[0m     \u001b[39mself\u001b[39;49m\u001b[39m.\u001b[39;49mnextstart()  \u001b[39m# only called for the 1st value\u001b[39;00m\n\u001b[0;32m    312\u001b[0m \u001b[39melse\u001b[39;00m:\n\u001b[0;32m    313\u001b[0m     \u001b[39mself\u001b[39m\u001b[39m.\u001b[39mprenext()\n",
      "File \u001b[1;32mc:\\Users\\ewp\\AppData\\Local\\Programs\\Python\\Python311\\Lib\\site-packages\\backtrader\\lineiterator.py:347\u001b[0m, in \u001b[0;36mLineIterator.nextstart\u001b[1;34m(self)\u001b[0m\n\u001b[0;32m    340\u001b[0m \u001b[39m\u001b[39m\u001b[39m'''\u001b[39;00m\n\u001b[0;32m    341\u001b[0m \u001b[39mThis method will be called once, exactly when the minimum period for\u001b[39;00m\n\u001b[0;32m    342\u001b[0m \u001b[39mall datas/indicators have been meet. The default behavior is to call\u001b[39;00m\n\u001b[0;32m    343\u001b[0m \u001b[39mnext\u001b[39;00m\n\u001b[0;32m    344\u001b[0m \u001b[39m'''\u001b[39;00m\n\u001b[0;32m    346\u001b[0m \u001b[39m# Called once for 1st full calculation - defaults to regular next\u001b[39;00m\n\u001b[1;32m--> 347\u001b[0m \u001b[39mself\u001b[39;49m\u001b[39m.\u001b[39;49mnext()\n",
      "\u001b[1;32mc:\\Users\\ewp\\Desktop\\mySite\\cra_backtest\\Research_Envir.ipynb Cell 15\u001b[0m line \u001b[0;36m1\n\u001b[0;32m     <a href='vscode-notebook-cell:/c%3A/Users/ewp/Desktop/mySite/cra_backtest/Research_Envir.ipynb#X32sZmlsZQ%3D%3D?line=11'>12</a>\u001b[0m \u001b[39mdef\u001b[39;00m \u001b[39mnext\u001b[39m(\u001b[39mself\u001b[39m):\n\u001b[1;32m---> <a href='vscode-notebook-cell:/c%3A/Users/ewp/Desktop/mySite/cra_backtest/Research_Envir.ipynb#X32sZmlsZQ%3D%3D?line=12'>13</a>\u001b[0m     \u001b[39mself\u001b[39;49m\u001b[39m.\u001b[39;49mlog(\u001b[39m'\u001b[39;49m\u001b[39mClose: \u001b[39;49m\u001b[39m'\u001b[39;49m, \u001b[39mself\u001b[39;49m\u001b[39m.\u001b[39;49mdataclose[\u001b[39m0\u001b[39;49m])\n\u001b[0;32m     <a href='vscode-notebook-cell:/c%3A/Users/ewp/Desktop/mySite/cra_backtest/Research_Envir.ipynb#X32sZmlsZQ%3D%3D?line=13'>14</a>\u001b[0m     \u001b[39mif\u001b[39;00m \u001b[39mnot\u001b[39;00m \u001b[39mself\u001b[39m\u001b[39m.\u001b[39mposition:\n\u001b[0;32m     <a href='vscode-notebook-cell:/c%3A/Users/ewp/Desktop/mySite/cra_backtest/Research_Envir.ipynb#X32sZmlsZQ%3D%3D?line=14'>15</a>\u001b[0m         \u001b[39mif\u001b[39;00m \u001b[39mself\u001b[39m\u001b[39m.\u001b[39mrsi[\u001b[39m0\u001b[39m]\u001b[39m<\u001b[39m\u001b[39m30\u001b[39m:\n",
      "\u001b[1;32mc:\\Users\\ewp\\Desktop\\mySite\\cra_backtest\\Research_Envir.ipynb Cell 15\u001b[0m line \u001b[0;36m1\n\u001b[0;32m      <a href='vscode-notebook-cell:/c%3A/Users/ewp/Desktop/mySite/cra_backtest/Research_Envir.ipynb#X32sZmlsZQ%3D%3D?line=7'>8</a>\u001b[0m \u001b[39mdef\u001b[39;00m \u001b[39mlog\u001b[39m(\u001b[39mself\u001b[39m, txt, dt\u001b[39m=\u001b[39m\u001b[39mNone\u001b[39;00m):\n\u001b[0;32m      <a href='vscode-notebook-cell:/c%3A/Users/ewp/Desktop/mySite/cra_backtest/Research_Envir.ipynb#X32sZmlsZQ%3D%3D?line=8'>9</a>\u001b[0m     dt \u001b[39m=\u001b[39m dt \u001b[39mor\u001b[39;00m \u001b[39mself\u001b[39m\u001b[39m.\u001b[39mdatas[\u001b[39m0\u001b[39m]\u001b[39m.\u001b[39mdatetime\u001b[39m.\u001b[39mdate(\u001b[39m0\u001b[39m)\n\u001b[1;32m---> <a href='vscode-notebook-cell:/c%3A/Users/ewp/Desktop/mySite/cra_backtest/Research_Envir.ipynb#X32sZmlsZQ%3D%3D?line=9'>10</a>\u001b[0m     \u001b[39mprint\u001b[39m(\u001b[39mf\u001b[39m\u001b[39m'\u001b[39m\u001b[39m{\u001b[39;00mdt\u001b[39m.\u001b[39;49misoformat()\u001b[39m}\u001b[39;00m\u001b[39m \u001b[39m\u001b[39m{\u001b[39;00mtxt\u001b[39m}\u001b[39;00m\u001b[39m'\u001b[39m)\n",
      "\u001b[1;31mAttributeError\u001b[0m: 'float' object has no attribute 'isoformat'"
     ]
    }
   ],
   "source": [
    "cerebro.run()"
   ]
  },
  {
   "cell_type": "code",
   "execution_count": null,
   "metadata": {},
   "outputs": [],
   "source": []
  },
  {
   "cell_type": "code",
   "execution_count": null,
   "metadata": {},
   "outputs": [],
   "source": []
  }
 ],
 "metadata": {
  "kernelspec": {
   "display_name": "Python 3",
   "language": "python",
   "name": "python3"
  },
  "language_info": {
   "codemirror_mode": {
    "name": "ipython",
    "version": 3
   },
   "file_extension": ".py",
   "mimetype": "text/x-python",
   "name": "python",
   "nbconvert_exporter": "python",
   "pygments_lexer": "ipython3",
   "version": "3.11.4"
  }
 },
 "nbformat": 4,
 "nbformat_minor": 2
}
